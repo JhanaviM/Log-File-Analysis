{
 "cells": [
  {
   "cell_type": "code",
   "execution_count": 2,
   "id": "d78bf841",
   "metadata": {},
   "outputs": [],
   "source": [
    "import pandas as pd\n",
    "import numpy as np\n",
    "from ua_parser import user_agent_parser\n",
    "import matplotlib.pyplot as plt"
   ]
  },
  {
   "cell_type": "code",
   "execution_count": 3,
   "id": "458ea341",
   "metadata": {},
   "outputs": [],
   "source": [
    "data = pd.read_csv(r\"logdata.csv\")"
   ]
  },
  {
   "cell_type": "code",
   "execution_count": 4,
   "id": "4976b07b",
   "metadata": {},
   "outputs": [
    {
     "data": {
      "text/html": [
       "<div>\n",
       "<style scoped>\n",
       "    .dataframe tbody tr th:only-of-type {\n",
       "        vertical-align: middle;\n",
       "    }\n",
       "\n",
       "    .dataframe tbody tr th {\n",
       "        vertical-align: top;\n",
       "    }\n",
       "\n",
       "    .dataframe thead th {\n",
       "        text-align: right;\n",
       "    }\n",
       "</style>\n",
       "<table border=\"1\" class=\"dataframe\">\n",
       "  <thead>\n",
       "    <tr style=\"text-align: right;\">\n",
       "      <th></th>\n",
       "      <th>Column1</th>\n",
       "      <th>Column2</th>\n",
       "      <th>Column3</th>\n",
       "      <th>Column4</th>\n",
       "      <th>Column5</th>\n",
       "      <th>Column6</th>\n",
       "      <th>Column7</th>\n",
       "      <th>Column8</th>\n",
       "      <th>Column9</th>\n",
       "      <th>Column10</th>\n",
       "    </tr>\n",
       "  </thead>\n",
       "  <tbody>\n",
       "    <tr>\n",
       "      <th>0</th>\n",
       "      <td>87.116.74.253</td>\n",
       "      <td>-</td>\n",
       "      <td>-</td>\n",
       "      <td>[28/Feb/2022:14:04:44</td>\n",
       "      <td>+0200]</td>\n",
       "      <td>POST /wp-admin/admin-ajax.php HTTP/2.0</td>\n",
       "      <td>200.0</td>\n",
       "      <td>47</td>\n",
       "      <td>https://nargile.bg/wp-admin/admin.php?page=wc-...</td>\n",
       "      <td>Mozilla/5.0 (Macintosh; Intel Mac OS X 10_15_7...</td>\n",
       "    </tr>\n",
       "    <tr>\n",
       "      <th>1</th>\n",
       "      <td>91.196.124.220</td>\n",
       "      <td>-</td>\n",
       "      <td>-</td>\n",
       "      <td>[28/Feb/2022:14:04:47</td>\n",
       "      <td>+0200]</td>\n",
       "      <td>POST /wp-cron.php?doing_wp_cron=1646049887.247...</td>\n",
       "      <td>200.0</td>\n",
       "      <td>-</td>\n",
       "      <td>https://nargile.bg/wp-cron.php?doing_wp_cron=1...</td>\n",
       "      <td>WordPress/5.9.1; https://nargile.bg</td>\n",
       "    </tr>\n",
       "    <tr>\n",
       "      <th>2</th>\n",
       "      <td>91.196.124.220</td>\n",
       "      <td>-</td>\n",
       "      <td>-</td>\n",
       "      <td>[28/Feb/2022:14:06:45</td>\n",
       "      <td>+0200]</td>\n",
       "      <td>POST /wp-cron.php?doing_wp_cron=1646050005.394...</td>\n",
       "      <td>200.0</td>\n",
       "      <td>-</td>\n",
       "      <td>https://nargile.bg/wp-cron.php?doing_wp_cron=1...</td>\n",
       "      <td>WordPress/5.9.1; https://nargile.bg</td>\n",
       "    </tr>\n",
       "    <tr>\n",
       "      <th>3</th>\n",
       "      <td>87.116.74.253</td>\n",
       "      <td>-</td>\n",
       "      <td>-</td>\n",
       "      <td>[28/Feb/2022:14:06:44</td>\n",
       "      <td>+0200]</td>\n",
       "      <td>POST /wp-admin/admin-ajax.php HTTP/2.0</td>\n",
       "      <td>200.0</td>\n",
       "      <td>47</td>\n",
       "      <td>https://nargile.bg/wp-admin/admin.php?page=wc-...</td>\n",
       "      <td>Mozilla/5.0 (Macintosh; Intel Mac OS X 10_15_7...</td>\n",
       "    </tr>\n",
       "    <tr>\n",
       "      <th>4</th>\n",
       "      <td>66.249.70.57</td>\n",
       "      <td>-</td>\n",
       "      <td>-</td>\n",
       "      <td>[28/Feb/2022:14:06:46</td>\n",
       "      <td>+0200]</td>\n",
       "      <td>GET /category/alpaca-bowls/ HTTP/1.1</td>\n",
       "      <td>200.0</td>\n",
       "      <td>262929</td>\n",
       "      <td>-</td>\n",
       "      <td>Mozilla/5.0 (compatible; Googlebot/2.1; +http:...</td>\n",
       "    </tr>\n",
       "  </tbody>\n",
       "</table>\n",
       "</div>"
      ],
      "text/plain": [
       "          Column1 Column2 Column3                Column4 Column5  \\\n",
       "0   87.116.74.253       -       -  [28/Feb/2022:14:04:44  +0200]   \n",
       "1  91.196.124.220       -       -  [28/Feb/2022:14:04:47  +0200]   \n",
       "2  91.196.124.220       -       -  [28/Feb/2022:14:06:45  +0200]   \n",
       "3   87.116.74.253       -       -  [28/Feb/2022:14:06:44  +0200]   \n",
       "4    66.249.70.57       -       -  [28/Feb/2022:14:06:46  +0200]   \n",
       "\n",
       "                                             Column6  Column7 Column8  \\\n",
       "0             POST /wp-admin/admin-ajax.php HTTP/2.0    200.0      47   \n",
       "1  POST /wp-cron.php?doing_wp_cron=1646049887.247...    200.0       -   \n",
       "2  POST /wp-cron.php?doing_wp_cron=1646050005.394...    200.0       -   \n",
       "3             POST /wp-admin/admin-ajax.php HTTP/2.0    200.0      47   \n",
       "4               GET /category/alpaca-bowls/ HTTP/1.1    200.0  262929   \n",
       "\n",
       "                                             Column9  \\\n",
       "0  https://nargile.bg/wp-admin/admin.php?page=wc-...   \n",
       "1  https://nargile.bg/wp-cron.php?doing_wp_cron=1...   \n",
       "2  https://nargile.bg/wp-cron.php?doing_wp_cron=1...   \n",
       "3  https://nargile.bg/wp-admin/admin.php?page=wc-...   \n",
       "4                                                  -   \n",
       "\n",
       "                                            Column10  \n",
       "0  Mozilla/5.0 (Macintosh; Intel Mac OS X 10_15_7...  \n",
       "1                WordPress/5.9.1; https://nargile.bg  \n",
       "2                WordPress/5.9.1; https://nargile.bg  \n",
       "3  Mozilla/5.0 (Macintosh; Intel Mac OS X 10_15_7...  \n",
       "4  Mozilla/5.0 (compatible; Googlebot/2.1; +http:...  "
      ]
     },
     "execution_count": 4,
     "metadata": {},
     "output_type": "execute_result"
    }
   ],
   "source": [
    "data.head()"
   ]
  },
  {
   "cell_type": "code",
   "execution_count": 5,
   "id": "b6376c00",
   "metadata": {},
   "outputs": [],
   "source": [
    "data.drop(['Column2','Column3'],axis=1,inplace = True)"
   ]
  },
  {
   "cell_type": "code",
   "execution_count": 6,
   "id": "2ac68cd7",
   "metadata": {},
   "outputs": [],
   "source": [
    "data['Column2'] = data['Column4']+data['Column5']"
   ]
  },
  {
   "cell_type": "code",
   "execution_count": 7,
   "id": "ce4cc921",
   "metadata": {},
   "outputs": [],
   "source": [
    "data.drop(['Column4','Column5'],axis=1,inplace = True)"
   ]
  },
  {
   "cell_type": "code",
   "execution_count": 8,
   "id": "4fca3f82",
   "metadata": {},
   "outputs": [],
   "source": [
    "sample_data = {'Col6': data['Column6']}\n",
    "df = pd.DataFrame(sample_data)\n",
    "split_columns = df['Col6'].str.split(expand=True)\n",
    "df[['HTTP_Method', 'Requested_URL', 'HTTP_Version']] = split_columns\n",
    "\n",
    "df.drop(columns=['Col6'], inplace=True)"
   ]
  },
  {
   "cell_type": "code",
   "execution_count": 9,
   "id": "ef856368",
   "metadata": {},
   "outputs": [
    {
     "data": {
      "text/html": [
       "<div>\n",
       "<style scoped>\n",
       "    .dataframe tbody tr th:only-of-type {\n",
       "        vertical-align: middle;\n",
       "    }\n",
       "\n",
       "    .dataframe tbody tr th {\n",
       "        vertical-align: top;\n",
       "    }\n",
       "\n",
       "    .dataframe thead th {\n",
       "        text-align: right;\n",
       "    }\n",
       "</style>\n",
       "<table border=\"1\" class=\"dataframe\">\n",
       "  <thead>\n",
       "    <tr style=\"text-align: right;\">\n",
       "      <th></th>\n",
       "      <th>HTTP_Method</th>\n",
       "      <th>Requested_URL</th>\n",
       "      <th>HTTP_Version</th>\n",
       "    </tr>\n",
       "  </thead>\n",
       "  <tbody>\n",
       "    <tr>\n",
       "      <th>0</th>\n",
       "      <td>POST</td>\n",
       "      <td>/wp-admin/admin-ajax.php</td>\n",
       "      <td>HTTP/2.0</td>\n",
       "    </tr>\n",
       "    <tr>\n",
       "      <th>1</th>\n",
       "      <td>POST</td>\n",
       "      <td>/wp-cron.php?doing_wp_cron=1646049887.24761605...</td>\n",
       "      <td>HTTP/1.1</td>\n",
       "    </tr>\n",
       "    <tr>\n",
       "      <th>2</th>\n",
       "      <td>POST</td>\n",
       "      <td>/wp-cron.php?doing_wp_cron=1646050005.39478302...</td>\n",
       "      <td>HTTP/1.1</td>\n",
       "    </tr>\n",
       "    <tr>\n",
       "      <th>3</th>\n",
       "      <td>POST</td>\n",
       "      <td>/wp-admin/admin-ajax.php</td>\n",
       "      <td>HTTP/2.0</td>\n",
       "    </tr>\n",
       "    <tr>\n",
       "      <th>4</th>\n",
       "      <td>GET</td>\n",
       "      <td>/category/alpaca-bowls/</td>\n",
       "      <td>HTTP/1.1</td>\n",
       "    </tr>\n",
       "  </tbody>\n",
       "</table>\n",
       "</div>"
      ],
      "text/plain": [
       "  HTTP_Method                                      Requested_URL HTTP_Version\n",
       "0        POST                           /wp-admin/admin-ajax.php     HTTP/2.0\n",
       "1        POST  /wp-cron.php?doing_wp_cron=1646049887.24761605...     HTTP/1.1\n",
       "2        POST  /wp-cron.php?doing_wp_cron=1646050005.39478302...     HTTP/1.1\n",
       "3        POST                           /wp-admin/admin-ajax.php     HTTP/2.0\n",
       "4         GET                            /category/alpaca-bowls/     HTTP/1.1"
      ]
     },
     "execution_count": 9,
     "metadata": {},
     "output_type": "execute_result"
    }
   ],
   "source": [
    "df.head()"
   ]
  },
  {
   "cell_type": "code",
   "execution_count": 10,
   "id": "af91a5d0",
   "metadata": {},
   "outputs": [],
   "source": [
    "data.rename(columns = {'Column1':'IP','Column2':'DateTime','Column7':'StatusCode','Column8':'BytesSent',\n",
    "                       'Column9':'Referrer','Column10':'UserAgent'},inplace=True)"
   ]
  },
  {
   "cell_type": "code",
   "execution_count": 11,
   "id": "322ccd3f",
   "metadata": {},
   "outputs": [],
   "source": [
    "data['HTTP_Method'] = df['HTTP_Method']\n",
    "data['URL'] = df['Requested_URL']\n",
    "data['HTTP_Version'] = df['HTTP_Version']"
   ]
  },
  {
   "cell_type": "code",
   "execution_count": 12,
   "id": "ae3af267",
   "metadata": {},
   "outputs": [],
   "source": [
    "data.drop('Column6',axis=1,inplace=True)"
   ]
  },
  {
   "cell_type": "code",
   "execution_count": 14,
   "id": "5061cba0",
   "metadata": {},
   "outputs": [],
   "source": [
    "data.to_csv(r'LogDataFinal.csv')"
   ]
  },
  {
   "cell_type": "code",
   "execution_count": 13,
   "id": "9126567d",
   "metadata": {},
   "outputs": [
    {
     "data": {
      "text/html": [
       "<div>\n",
       "<style scoped>\n",
       "    .dataframe tbody tr th:only-of-type {\n",
       "        vertical-align: middle;\n",
       "    }\n",
       "\n",
       "    .dataframe tbody tr th {\n",
       "        vertical-align: top;\n",
       "    }\n",
       "\n",
       "    .dataframe thead th {\n",
       "        text-align: right;\n",
       "    }\n",
       "</style>\n",
       "<table border=\"1\" class=\"dataframe\">\n",
       "  <thead>\n",
       "    <tr style=\"text-align: right;\">\n",
       "      <th></th>\n",
       "      <th>IP</th>\n",
       "      <th>StatusCode</th>\n",
       "      <th>BytesSent</th>\n",
       "      <th>Referrer</th>\n",
       "      <th>UserAgent</th>\n",
       "      <th>DateTime</th>\n",
       "      <th>HTTP_Method</th>\n",
       "      <th>URL</th>\n",
       "      <th>HTTP_Version</th>\n",
       "    </tr>\n",
       "  </thead>\n",
       "  <tbody>\n",
       "    <tr>\n",
       "      <th>0</th>\n",
       "      <td>87.116.74.253</td>\n",
       "      <td>200.0</td>\n",
       "      <td>47</td>\n",
       "      <td>https://nargile.bg/wp-admin/admin.php?page=wc-...</td>\n",
       "      <td>Mozilla/5.0 (Macintosh; Intel Mac OS X 10_15_7...</td>\n",
       "      <td>[28/Feb/2022:14:04:44+0200]</td>\n",
       "      <td>POST</td>\n",
       "      <td>/wp-admin/admin-ajax.php</td>\n",
       "      <td>HTTP/2.0</td>\n",
       "    </tr>\n",
       "    <tr>\n",
       "      <th>1</th>\n",
       "      <td>91.196.124.220</td>\n",
       "      <td>200.0</td>\n",
       "      <td>-</td>\n",
       "      <td>https://nargile.bg/wp-cron.php?doing_wp_cron=1...</td>\n",
       "      <td>WordPress/5.9.1; https://nargile.bg</td>\n",
       "      <td>[28/Feb/2022:14:04:47+0200]</td>\n",
       "      <td>POST</td>\n",
       "      <td>/wp-cron.php?doing_wp_cron=1646049887.24761605...</td>\n",
       "      <td>HTTP/1.1</td>\n",
       "    </tr>\n",
       "    <tr>\n",
       "      <th>2</th>\n",
       "      <td>91.196.124.220</td>\n",
       "      <td>200.0</td>\n",
       "      <td>-</td>\n",
       "      <td>https://nargile.bg/wp-cron.php?doing_wp_cron=1...</td>\n",
       "      <td>WordPress/5.9.1; https://nargile.bg</td>\n",
       "      <td>[28/Feb/2022:14:06:45+0200]</td>\n",
       "      <td>POST</td>\n",
       "      <td>/wp-cron.php?doing_wp_cron=1646050005.39478302...</td>\n",
       "      <td>HTTP/1.1</td>\n",
       "    </tr>\n",
       "    <tr>\n",
       "      <th>3</th>\n",
       "      <td>87.116.74.253</td>\n",
       "      <td>200.0</td>\n",
       "      <td>47</td>\n",
       "      <td>https://nargile.bg/wp-admin/admin.php?page=wc-...</td>\n",
       "      <td>Mozilla/5.0 (Macintosh; Intel Mac OS X 10_15_7...</td>\n",
       "      <td>[28/Feb/2022:14:06:44+0200]</td>\n",
       "      <td>POST</td>\n",
       "      <td>/wp-admin/admin-ajax.php</td>\n",
       "      <td>HTTP/2.0</td>\n",
       "    </tr>\n",
       "    <tr>\n",
       "      <th>4</th>\n",
       "      <td>66.249.70.57</td>\n",
       "      <td>200.0</td>\n",
       "      <td>262929</td>\n",
       "      <td>-</td>\n",
       "      <td>Mozilla/5.0 (compatible; Googlebot/2.1; +http:...</td>\n",
       "      <td>[28/Feb/2022:14:06:46+0200]</td>\n",
       "      <td>GET</td>\n",
       "      <td>/category/alpaca-bowls/</td>\n",
       "      <td>HTTP/1.1</td>\n",
       "    </tr>\n",
       "  </tbody>\n",
       "</table>\n",
       "</div>"
      ],
      "text/plain": [
       "               IP  StatusCode BytesSent  \\\n",
       "0   87.116.74.253       200.0        47   \n",
       "1  91.196.124.220       200.0         -   \n",
       "2  91.196.124.220       200.0         -   \n",
       "3   87.116.74.253       200.0        47   \n",
       "4    66.249.70.57       200.0    262929   \n",
       "\n",
       "                                            Referrer  \\\n",
       "0  https://nargile.bg/wp-admin/admin.php?page=wc-...   \n",
       "1  https://nargile.bg/wp-cron.php?doing_wp_cron=1...   \n",
       "2  https://nargile.bg/wp-cron.php?doing_wp_cron=1...   \n",
       "3  https://nargile.bg/wp-admin/admin.php?page=wc-...   \n",
       "4                                                  -   \n",
       "\n",
       "                                           UserAgent  \\\n",
       "0  Mozilla/5.0 (Macintosh; Intel Mac OS X 10_15_7...   \n",
       "1                WordPress/5.9.1; https://nargile.bg   \n",
       "2                WordPress/5.9.1; https://nargile.bg   \n",
       "3  Mozilla/5.0 (Macintosh; Intel Mac OS X 10_15_7...   \n",
       "4  Mozilla/5.0 (compatible; Googlebot/2.1; +http:...   \n",
       "\n",
       "                      DateTime HTTP_Method  \\\n",
       "0  [28/Feb/2022:14:04:44+0200]        POST   \n",
       "1  [28/Feb/2022:14:04:47+0200]        POST   \n",
       "2  [28/Feb/2022:14:06:45+0200]        POST   \n",
       "3  [28/Feb/2022:14:06:44+0200]        POST   \n",
       "4  [28/Feb/2022:14:06:46+0200]         GET   \n",
       "\n",
       "                                                 URL HTTP_Version  \n",
       "0                           /wp-admin/admin-ajax.php     HTTP/2.0  \n",
       "1  /wp-cron.php?doing_wp_cron=1646049887.24761605...     HTTP/1.1  \n",
       "2  /wp-cron.php?doing_wp_cron=1646050005.39478302...     HTTP/1.1  \n",
       "3                           /wp-admin/admin-ajax.php     HTTP/2.0  \n",
       "4                            /category/alpaca-bowls/     HTTP/1.1  "
      ]
     },
     "execution_count": 13,
     "metadata": {},
     "output_type": "execute_result"
    }
   ],
   "source": [
    "data.head()"
   ]
  },
  {
   "cell_type": "code",
   "execution_count": 13,
   "id": "11e8c791",
   "metadata": {},
   "outputs": [
    {
     "data": {
      "text/plain": [
       "35.210.207.218     2322\n",
       "87.116.74.253      1957\n",
       "91.196.124.220     1884\n",
       "130.204.199.252    1209\n",
       "149.62.203.226     1161\n",
       "212.39.89.183      1112\n",
       "46.10.120.188      1087\n",
       "95.42.145.40       1067\n",
       "149.62.202.254      985\n",
       "212.39.89.155       973\n",
       "Name: IP, dtype: int64"
      ]
     },
     "execution_count": 13,
     "metadata": {},
     "output_type": "execute_result"
    }
   ],
   "source": [
    "#Top 10 unique ip addresses\n",
    "ip_count = data['IP'].value_counts().head(10)\n",
    "ip_count"
   ]
  },
  {
   "cell_type": "code",
   "execution_count": 14,
   "id": "a664f360",
   "metadata": {},
   "outputs": [
    {
     "data": {
      "image/png": "[encoded data removed]",
      "text/plain": [
       "<Figure size 1008x576 with 1 Axes>"
      ]
     },
     "metadata": {
      "needs_background": "light"
     },
     "output_type": "display_data"
    }
   ],
   "source": [
    "#Bar graph between number of requests for each ip\n",
    "plt.figure(figsize = (14,8))\n",
    "ip_count.plot(kind = 'bar')\n",
    "plt.title('Number of Requests from each IP')\n",
    "plt.xlabel('IP Address')\n",
    "plt.ylabel('Number of Requests')\n",
    "plt.show()"
   ]
  },
  {
   "cell_type": "code",
   "execution_count": 15,
   "id": "d30ef791",
   "metadata": {},
   "outputs": [
    {
     "data": {
      "text/plain": [
       "/wp-admin/admin-ajax.php                                                                       1412\n",
       "/wp-content/uploads/2021/05/HLGN-Logo.png                                                      1289\n",
       "/?wc-ajax=get_refreshed_fragments                                                              1193\n",
       "/                                                                                              1146\n",
       "/?nitroWebhook=cache_ready&token=fdccd0f43d6699b0ad7852228297d999                               515\n",
       "                                                                                               ... \n",
       "/wp-cron.php?doing_wp_cron=1646154070.8829109668731689453125                                      1\n",
       "/wp-admin/admin-ajax.php?city=St&action=econt_handle_ajax                                         1\n",
       "/wp-admin/admin-ajax.php?action=econt_handle_ajax&office_city_id=45&delivery_type=to_office       1\n",
       "/wp-cron.php?doing_wp_cron=1646118571.3258769512176513671875                                      1\n",
       "/wp-cron.php?doing_wp_cron=1646093479.9890449047088623046875                                      1\n",
       "Name: URL, Length: 11137, dtype: int64"
      ]
     },
     "execution_count": 15,
     "metadata": {},
     "output_type": "execute_result"
    }
   ],
   "source": [
    "#URL hits in descending order\n",
    "data['URL'].value_counts()"
   ]
  },
  {
   "cell_type": "code",
   "execution_count": 16,
   "id": "84e3328f",
   "metadata": {},
   "outputs": [
    {
     "name": "stdout",
     "output_type": "stream",
     "text": [
      "Maximum hits to url are :  /wp-admin/admin-ajax.php    1412\n",
      "Name: URL, dtype: int64\n"
     ]
    }
   ],
   "source": [
    "#URL with maximum hits\n",
    "print(\"Maximum hits to url are : \",data['URL'].value_counts().head(1))"
   ]
  },
  {
   "cell_type": "code",
   "execution_count": 17,
   "id": "e8b05e18",
   "metadata": {},
   "outputs": [],
   "source": [
    "#To extract the browser and platform from User Agent\n",
    "def extract_browser_platform(user_agent_str):\n",
    "    if isinstance(user_agent_str, str):\n",
    "        parsed_ua = user_agent_parser.Parse(user_agent_str)\n",
    "        return parsed_ua['user_agent']['family'], parsed_ua['os']['family']\n",
    "    else:\n",
    "        return None, None\n",
    "\n",
    "data['Browser'], data['Platform'] = zip(*data['UserAgent'].apply(extract_browser_platform))\n"
   ]
  },
  {
   "cell_type": "code",
   "execution_count": 18,
   "id": "6cc2dafd",
   "metadata": {},
   "outputs": [
    {
     "data": {
      "text/plain": [
       "iOS         38120\n",
       "Android     28606\n",
       "Windows     20586\n",
       "Other        6826\n",
       "Mac OS X     5773\n",
       "Ubuntu         69\n",
       "Linux          19\n",
       "Name: Platform, dtype: int64"
      ]
     },
     "execution_count": 18,
     "metadata": {},
     "output_type": "execute_result"
    }
   ],
   "source": [
    "#Hits per platform \n",
    "p_count = data['Platform'].value_counts()\n",
    "p_count"
   ]
  },
  {
   "cell_type": "code",
   "execution_count": 19,
   "id": "4b4a1d0e",
   "metadata": {},
   "outputs": [
    {
     "data": {
      "image/png": "[encoded data removed]",
      "text/plain": [
       "<Figure size 576x720 with 1 Axes>"
      ]
     },
     "metadata": {
      "needs_background": "light"
     },
     "output_type": "display_data"
    }
   ],
   "source": [
    "#Line graph between number of hits for each platform\n",
    "plt.figure(figsize = (8,10))\n",
    "p_count.plot(kind = 'bar')\n",
    "plt.title('Number of hits for each platform')\n",
    "plt.xlabel('Platform')\n",
    "plt.ylabel('Number of hits')\n",
    "plt.show()"
   ]
  },
  {
   "cell_type": "code",
   "execution_count": 20,
   "id": "c57ef3c6",
   "metadata": {},
   "outputs": [
    {
     "data": {
      "text/plain": [
       "Mobile Safari                   24866\n",
       "Chrome Mobile                   18418\n",
       "Chrome                          16879\n",
       "Instagram                       10044\n",
       "Chrome Mobile WebView            3299\n",
       "Opera                            2820\n",
       "Firefox                          2661\n",
       "Google                           2485\n",
       "VelenPublicWebCrawler            2322\n",
       "Safari                           2239\n",
       "Edge                             2088\n",
       "WordPress                        2030\n",
       "Facebook                         1818\n",
       "Chrome Mobile iOS                1631\n",
       "Samsung Internet                 1403\n",
       "Mobile Safari UI/WKWebView       1041\n",
       "bingbot                           888\n",
       "Googlebot                         719\n",
       "Opera Mobile                      494\n",
       "FacebookBot                       409\n",
       "Go-http-client                    311\n",
       "Firefox Mobile                    241\n",
       "Applebot                          132\n",
       "Googlebot-Image                   114\n",
       "AhrefsBot                         111\n",
       "Other                             106\n",
       "PetalBot                           98\n",
       "WooCommerce                        74\n",
       "IE                                 70\n",
       "SemrushBot                         69\n",
       "Viber                              27\n",
       "Discordbot                         24\n",
       "YandexBot                          15\n",
       "WhatsApp                           11\n",
       "WebPageTest.org bot                11\n",
       "axios                               6\n",
       "BingPreview                         4\n",
       "MobileSafari                        4\n",
       "DuckDuckGo-Favicons-Bot             4\n",
       "MJ12bot                             3\n",
       "EntferBot                           2\n",
       "Slack-ImgProxy                      2\n",
       "CFNetwork                           2\n",
       "Android                             1\n",
       "NotificationServiceExtension        1\n",
       "Apple Mail                          1\n",
       "AwarioRssBot                        1\n",
       "Name: Browser, dtype: int64"
      ]
     },
     "execution_count": 20,
     "metadata": {},
     "output_type": "execute_result"
    }
   ],
   "source": [
    "#Hits per browser\n",
    "b_count = data['Browser'].value_counts()\n",
    "b_count"
   ]
  },
  {
   "cell_type": "code",
   "execution_count": 21,
   "id": "6a3d8ed6",
   "metadata": {},
   "outputs": [
    {
     "data": {
      "image/png": "[encoded data removed]",
      "text/plain": [
       "<Figure size 576x576 with 1 Axes>"
      ]
     },
     "metadata": {
      "needs_background": "light"
     },
     "output_type": "display_data"
    }
   ],
   "source": [
    "#Line graph between number of hits for each platform\n",
    "plt.figure(figsize = (8,8))\n",
    "b_count.head(10).plot(kind = 'bar')\n",
    "plt.title('Number of hits for each browser')\n",
    "plt.xlabel('Browser')\n",
    "plt.ylabel('Number of hits')\n",
    "plt.show()"
   ]
  },
  {
   "cell_type": "code",
   "execution_count": 22,
   "id": "098310ad",
   "metadata": {},
   "outputs": [
    {
     "name": "stdout",
     "output_type": "stream",
     "text": [
      "Number of http codes are: 93396\n"
     ]
    }
   ],
   "source": [
    "#Total no. of https codes \n",
    "count1 = 0\n",
    "for i in data['Referrer']:\n",
    "    if isinstance(i, str) and 'https' in i:\n",
    "        count1 += 1\n",
    "\n",
    "print(\"Number of http codes are:\", count1)"
   ]
  },
  {
   "cell_type": "code",
   "execution_count": 23,
   "id": "6ae0a5c7",
   "metadata": {},
   "outputs": [
    {
     "data": {
      "text/html": [
       "<div>\n",
       "<style scoped>\n",
       "    .dataframe tbody tr th:only-of-type {\n",
       "        vertical-align: middle;\n",
       "    }\n",
       "\n",
       "    .dataframe tbody tr th {\n",
       "        vertical-align: top;\n",
       "    }\n",
       "\n",
       "    .dataframe thead th {\n",
       "        text-align: right;\n",
       "    }\n",
       "</style>\n",
       "<table border=\"1\" class=\"dataframe\">\n",
       "  <thead>\n",
       "    <tr style=\"text-align: right;\">\n",
       "      <th></th>\n",
       "      <th>IP</th>\n",
       "      <th>StatusCode</th>\n",
       "      <th>BytesSent</th>\n",
       "      <th>Referrer</th>\n",
       "      <th>UserAgent</th>\n",
       "      <th>DateTime</th>\n",
       "      <th>HTTP_Method</th>\n",
       "      <th>URL</th>\n",
       "      <th>HTTP_Version</th>\n",
       "      <th>Browser</th>\n",
       "      <th>Platform</th>\n",
       "    </tr>\n",
       "  </thead>\n",
       "  <tbody>\n",
       "    <tr>\n",
       "      <th>0</th>\n",
       "      <td>87.116.74.253</td>\n",
       "      <td>200.0</td>\n",
       "      <td>47</td>\n",
       "      <td>https://nargile.bg/wp-admin/admin.php?page=wc-...</td>\n",
       "      <td>Mozilla/5.0 (Macintosh; Intel Mac OS X 10_15_7...</td>\n",
       "      <td>[28/Feb/2022:14:04:44+0200]</td>\n",
       "      <td>POST</td>\n",
       "      <td>/wp-admin/admin-ajax.php</td>\n",
       "      <td>HTTP/2.0</td>\n",
       "      <td>Chrome</td>\n",
       "      <td>Mac OS X</td>\n",
       "    </tr>\n",
       "    <tr>\n",
       "      <th>1</th>\n",
       "      <td>91.196.124.220</td>\n",
       "      <td>200.0</td>\n",
       "      <td>-</td>\n",
       "      <td>https://nargile.bg/wp-cron.php?doing_wp_cron=1...</td>\n",
       "      <td>WordPress/5.9.1; https://nargile.bg</td>\n",
       "      <td>[28/Feb/2022:14:04:47+0200]</td>\n",
       "      <td>POST</td>\n",
       "      <td>/wp-cron.php?doing_wp_cron=1646049887.24761605...</td>\n",
       "      <td>HTTP/1.1</td>\n",
       "      <td>WordPress</td>\n",
       "      <td>Other</td>\n",
       "    </tr>\n",
       "    <tr>\n",
       "      <th>2</th>\n",
       "      <td>91.196.124.220</td>\n",
       "      <td>200.0</td>\n",
       "      <td>-</td>\n",
       "      <td>https://nargile.bg/wp-cron.php?doing_wp_cron=1...</td>\n",
       "      <td>WordPress/5.9.1; https://nargile.bg</td>\n",
       "      <td>[28/Feb/2022:14:06:45+0200]</td>\n",
       "      <td>POST</td>\n",
       "      <td>/wp-cron.php?doing_wp_cron=1646050005.39478302...</td>\n",
       "      <td>HTTP/1.1</td>\n",
       "      <td>WordPress</td>\n",
       "      <td>Other</td>\n",
       "    </tr>\n",
       "    <tr>\n",
       "      <th>3</th>\n",
       "      <td>87.116.74.253</td>\n",
       "      <td>200.0</td>\n",
       "      <td>47</td>\n",
       "      <td>https://nargile.bg/wp-admin/admin.php?page=wc-...</td>\n",
       "      <td>Mozilla/5.0 (Macintosh; Intel Mac OS X 10_15_7...</td>\n",
       "      <td>[28/Feb/2022:14:06:44+0200]</td>\n",
       "      <td>POST</td>\n",
       "      <td>/wp-admin/admin-ajax.php</td>\n",
       "      <td>HTTP/2.0</td>\n",
       "      <td>Chrome</td>\n",
       "      <td>Mac OS X</td>\n",
       "    </tr>\n",
       "    <tr>\n",
       "      <th>4</th>\n",
       "      <td>66.249.70.57</td>\n",
       "      <td>200.0</td>\n",
       "      <td>262929</td>\n",
       "      <td>-</td>\n",
       "      <td>Mozilla/5.0 (compatible; Googlebot/2.1; +http:...</td>\n",
       "      <td>[28/Feb/2022:14:06:46+0200]</td>\n",
       "      <td>GET</td>\n",
       "      <td>/category/alpaca-bowls/</td>\n",
       "      <td>HTTP/1.1</td>\n",
       "      <td>Googlebot</td>\n",
       "      <td>Other</td>\n",
       "    </tr>\n",
       "  </tbody>\n",
       "</table>\n",
       "</div>"
      ],
      "text/plain": [
       "               IP  StatusCode BytesSent  \\\n",
       "0   87.116.74.253       200.0        47   \n",
       "1  91.196.124.220       200.0         -   \n",
       "2  91.196.124.220       200.0         -   \n",
       "3   87.116.74.253       200.0        47   \n",
       "4    66.249.70.57       200.0    262929   \n",
       "\n",
       "                                            Referrer  \\\n",
       "0  https://nargile.bg/wp-admin/admin.php?page=wc-...   \n",
       "1  https://nargile.bg/wp-cron.php?doing_wp_cron=1...   \n",
       "2  https://nargile.bg/wp-cron.php?doing_wp_cron=1...   \n",
       "3  https://nargile.bg/wp-admin/admin.php?page=wc-...   \n",
       "4                                                  -   \n",
       "\n",
       "                                           UserAgent  \\\n",
       "0  Mozilla/5.0 (Macintosh; Intel Mac OS X 10_15_7...   \n",
       "1                WordPress/5.9.1; https://nargile.bg   \n",
       "2                WordPress/5.9.1; https://nargile.bg   \n",
       "3  Mozilla/5.0 (Macintosh; Intel Mac OS X 10_15_7...   \n",
       "4  Mozilla/5.0 (compatible; Googlebot/2.1; +http:...   \n",
       "\n",
       "                      DateTime HTTP_Method  \\\n",
       "0  [28/Feb/2022:14:04:44+0200]        POST   \n",
       "1  [28/Feb/2022:14:04:47+0200]        POST   \n",
       "2  [28/Feb/2022:14:06:45+0200]        POST   \n",
       "3  [28/Feb/2022:14:06:44+0200]        POST   \n",
       "4  [28/Feb/2022:14:06:46+0200]         GET   \n",
       "\n",
       "                                                 URL HTTP_Version    Browser  \\\n",
       "0                           /wp-admin/admin-ajax.php     HTTP/2.0     Chrome   \n",
       "1  /wp-cron.php?doing_wp_cron=1646049887.24761605...     HTTP/1.1  WordPress   \n",
       "2  /wp-cron.php?doing_wp_cron=1646050005.39478302...     HTTP/1.1  WordPress   \n",
       "3                           /wp-admin/admin-ajax.php     HTTP/2.0     Chrome   \n",
       "4                            /category/alpaca-bowls/     HTTP/1.1  Googlebot   \n",
       "\n",
       "   Platform  \n",
       "0  Mac OS X  \n",
       "1     Other  \n",
       "2     Other  \n",
       "3  Mac OS X  \n",
       "4     Other  "
      ]
     },
     "execution_count": 23,
     "metadata": {},
     "output_type": "execute_result"
    }
   ],
   "source": [
    "data.head()"
   ]
  },
  {
   "cell_type": "code",
   "execution_count": 24,
   "id": "c0a0ef77",
   "metadata": {},
   "outputs": [
    {
     "data": {
      "text/plain": [
       "0        2022-02-28 14:04:44+02:00\n",
       "1        2022-02-28 14:04:47+02:00\n",
       "2        2022-02-28 14:06:45+02:00\n",
       "3        2022-02-28 14:06:44+02:00\n",
       "4        2022-02-28 14:06:46+02:00\n",
       "                    ...           \n",
       "99996    2022-03-01 20:43:01+02:00\n",
       "99997    2022-03-01 20:43:07+02:00\n",
       "99998    2022-03-01 20:43:11+02:00\n",
       "99999    2022-03-01 20:43:18+02:00\n",
       "100000   2022-03-01 20:43:24+02:00\n",
       "Name: DateTime, Length: 100001, dtype: datetime64[ns, pytz.FixedOffset(120)]"
      ]
     },
     "execution_count": 24,
     "metadata": {},
     "output_type": "execute_result"
    }
   ],
   "source": [
    "data['DateTime'] = data['DateTime'].str.strip('[]')\n",
    "data['DateTime'] = pd.to_datetime(data['DateTime'], format='%d/%b/%Y:%H:%M:%S%z')\n",
    "data['DateTime']"
   ]
  },
  {
   "cell_type": "code",
   "execution_count": 26,
   "id": "bc2fe0de",
   "metadata": {},
   "outputs": [
    {
     "data": {
      "text/plain": [
       "DateTime  URL                                                                        \n",
       "0.0       /                                                                              191\n",
       "          /?nitroWebhook=cache_ready&token=fdccd0f43d6699b0ad7852228297d999               38\n",
       "          /wp-content/uploads/2021/05/HLGN-Logo.png                                       31\n",
       "          /?wc-ajax=get_refreshed_fragments                                               20\n",
       "          /category/nargileta/                                                             7\n",
       "                                                                                        ... \n",
       "23.0      /wp-content/uploads/2019/12/nargilebg-logo.png                                  15\n",
       "          /category/nargileta/                                                            13\n",
       "          /wp-content/plugins/jetpack/css/jetpack.css?ver=10.6                            12\n",
       "          /wp-content/plugins/revslider/public/assets/css/rs6.css?ver=6.5.13              12\n",
       "          /wp-content/plugins/woo-discount-rules/v2/Assets/Js/site_main.js?ver=2.3.13     12\n",
       "Name: URL, Length: 240, dtype: int64"
      ]
     },
     "execution_count": 26,
     "metadata": {},
     "output_type": "execute_result"
    }
   ],
   "source": [
    "# - Calculate top 10 URL hits for each hour \n",
    "dt_group = data[['DateTime','Referrer','URL']].groupby([data['DateTime'].dt.hour])\n",
    "#dt_group\n",
    "\n",
    "URL_count = dt_group['URL'].value_counts() \n",
    "URL_count.groupby(['DateTime']).head(10)\n"
   ]
  },
  {
   "cell_type": "code",
   "execution_count": null,
   "id": "27225b52",
   "metadata": {},
   "outputs": [],
   "source": []
  }
 ],
 "metadata": {
  "kernelspec": {
   "display_name": "Python 3 (ipykernel)",
   "language": "python",
   "name": "python3"
  },
  "language_info": {
   "codemirror_mode": {
    "name": "ipython",
    "version": 3
   },
   "file_extension": ".py",
   "mimetype": "text/x-python",
   "name": "python",
   "nbconvert_exporter": "python",
   "pygments_lexer": "ipython3",
   "version": "3.9.5"
  }
 },
 "nbformat": 4,
 "nbformat_minor": 5
}
